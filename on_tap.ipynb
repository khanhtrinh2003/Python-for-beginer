{
 "cells": [
  {
   "attachments": {},
   "cell_type": "markdown",
   "metadata": {},
   "source": [
    "# Kiểu xâu"
   ]
  },
  {
   "attachments": {},
   "cell_type": "markdown",
   "metadata": {},
   "source": [
    "### Bài 1: "
   ]
  },
  {
   "attachments": {},
   "cell_type": "markdown",
   "metadata": {},
   "source": [
    "isalpha(): Kiểm tra có phải chữ cái không\n",
    "\n",
    "isnumeric(): Kiểm tra có phải chữ số không"
   ]
  },
  {
   "cell_type": "code",
   "execution_count": 4,
   "metadata": {},
   "outputs": [
    {
     "name": "stdout",
     "output_type": "stream",
     "text": [
      "dem_chu_cai: 5\n",
      "dem_chu_so: 5\n"
     ]
    }
   ],
   "source": [
    "dem_chu_cai=0\n",
    "dem_chu_so=0\n",
    "xau = input('Nhập xâu: ')\n",
    "for i in xau:\n",
    "    if i.isalpha():\n",
    "        dem_chu_cai = dem_chu_cai +1\n",
    "    elif i.isnumeric():\n",
    "        dem_chu_so = dem_chu_so +1\n",
    "print(f'dem_chu_cai: {dem_chu_cai}')\n",
    "print(f'dem_chu_so: {dem_chu_so}')"
   ]
  },
  {
   "attachments": {},
   "cell_type": "markdown",
   "metadata": {},
   "source": [
    "### Bài 2"
   ]
  },
  {
   "attachments": {},
   "cell_type": "markdown",
   "metadata": {},
   "source": [
    "eval(): Chuyên xâu thành số nguyên"
   ]
  },
  {
   "cell_type": "code",
   "execution_count": 13,
   "metadata": {},
   "outputs": [
    {
     "name": "stdout",
     "output_type": "stream",
     "text": [
      "1 2 3.5 4.3 5 6 7 88 9 11\n",
      "So le lon hon 5: \n",
      "7\n",
      "9\n",
      "11\n",
      "tong: 27\n"
     ]
    }
   ],
   "source": [
    "s=input('Nhập số nguyên hoặc số thực:')\n",
    "print(s)\n",
    "danh_sach_so = s.split(' ')\n",
    "tong=0\n",
    "print('So le lon hon 5: ')\n",
    "for i in danh_sach_so:\n",
    "    i =eval(i)\n",
    "    if (i%2!=0) and (i>5):\n",
    "        print(i)\n",
    "        tong = tong+i\n",
    "print(f'tong: {tong}')"
   ]
  },
  {
   "attachments": {},
   "cell_type": "markdown",
   "metadata": {},
   "source": [
    "### Bài 3"
   ]
  },
  {
   "cell_type": "code",
   "execution_count": 21,
   "metadata": {},
   "outputs": [
    {
     "name": "stdout",
     "output_type": "stream",
     "text": [
      "-1,2,-3,1.2\n",
      "danh_sach_so là:['-1', '2', '-3', '1.2']\n",
      "-1\n",
      "-3\n"
     ]
    }
   ],
   "source": [
    "s=input('nhập các số nguyên hoặc số thực:')\n",
    "print(s)\n",
    "danh_sach_so = s.split(',')\n",
    "dem_chu_so_am=0\n",
    "print(f\"danh_sach_so là:{danh_sach_so}\")\n",
    "for i in danh_sach_so:\n",
    "    i =eval(i)\n",
    "    if i<0:\n",
    "        dem_chu_so_am = dem_chu_so_am + 1\n",
    "        print(i)"
   ]
  },
  {
   "cell_type": "code",
   "execution_count": 16,
   "metadata": {},
   "outputs": [
    {
     "data": {
      "text/plain": [
       "['1', '2', '3']"
      ]
     },
     "execution_count": 16,
     "metadata": {},
     "output_type": "execute_result"
    }
   ],
   "source": [
    "s='1,2,3'\n",
    "danh_sach_so = s.split(',')\n",
    "danh_sach_so"
   ]
  },
  {
   "cell_type": "code",
   "execution_count": null,
   "metadata": {},
   "outputs": [],
   "source": []
  }
 ],
 "metadata": {
  "kernelspec": {
   "display_name": "Python 3",
   "language": "python",
   "name": "python3"
  },
  "language_info": {
   "codemirror_mode": {
    "name": "ipython",
    "version": 3
   },
   "file_extension": ".py",
   "mimetype": "text/x-python",
   "name": "python",
   "nbconvert_exporter": "python",
   "pygments_lexer": "ipython3",
   "version": "3.10.5"
  },
  "orig_nbformat": 4
 },
 "nbformat": 4,
 "nbformat_minor": 2
}
